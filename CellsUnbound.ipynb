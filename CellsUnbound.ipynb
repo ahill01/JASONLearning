{
 "cells": [
  {
   "cell_type": "markdown",
   "metadata": {},
   "source": [
    "## Cells Unbound ##\n",
    "### STEM vs Disease ###\n",
    "\n",
    "Cancer cells are different from normal cells in many subtle ways. In order to develop drugs to control cancer, researchers must develop tools that recognize these differences. Whether the tools are designed to kill cells or prevent their spread, they must have the ability to distinguish cancer from normal tissue. Refining this ability is essential to finding more effective and less damaging therapies.\n",
    "\n",
    "In this activity, you will become a cancer treatment expert. Oftentimes, doctors have to determine a balance of treatment strength and treatment specificity. Your job is to determine which balance of treatment strength and specificity results in the best outcome for your patient. "
   ]
  },
  {
   "cell_type": "code",
   "execution_count": 3,
   "metadata": {},
   "outputs": [
    {
     "name": "stdout",
     "output_type": "stream",
     "text": [
      "Your tissue contains \n",
      "1000 cancer cells\n",
      "9000 healthy cells\n",
      "Your tissue is 90.0% healthy cells\n"
     ]
    }
   ],
   "source": [
    "ccells = 1000\n",
    "hcells = 9000\n",
    "\n",
    "def printResults(ccells, hcells):  \n",
    "    print(\"Your tissue contains \") \n",
    "    print(str(ccells) + \" cancer cells\")\n",
    "    print(str(hcells) + \" healthy cells\")\n",
    "    print(\"Your tissue is \" +str(100*(hcells/(hcells+ccells))) + \"% healthy cells\")\n",
    "\n",
    "\n",
    "printResults(ccells,hcells)"
   ]
  },
  {
   "cell_type": "code",
   "execution_count": null,
   "metadata": {},
   "outputs": [],
   "source": []
  },
  {
   "cell_type": "markdown",
   "metadata": {},
   "source": [
    "Two main parameters: strength of treatment (how deadly the treatment is to cells) and specificity (how likely the treatment is to kill cancer cells specifically). \n",
    "\n",
    "For strength, enter a value between 0 and 1, with zero corresponding to a treatment that kills none of the cells it touches and 1 corresponding to a treatment that kills every cell it touches. \n",
    "\n",
    "For specificity, enter a value between .5 and 1, with .5 corresponding to a 50-50 chance that the cells killed are cancer cells, and 1 corresponding to a 100% probability that the cells killed are cancer cells. \n",
    "\n",
    "*Bonus: Why wouldn't we model a medication with a specificity less than 50%?*"
   ]
  },
  {
   "cell_type": "code",
   "execution_count": 5,
   "metadata": {},
   "outputs": [],
   "source": [
    "strength = 0.1\n",
    "specificity = 0.5"
   ]
  },
  {
   "cell_type": "code",
   "execution_count": 39,
   "metadata": {},
   "outputs": [
    {
     "ename": "SyntaxError",
     "evalue": "invalid syntax (<ipython-input-39-171d7d8c7e31>, line 22)",
     "output_type": "error",
     "traceback": [
      "\u001b[0;36m  File \u001b[0;32m\"<ipython-input-39-171d7d8c7e31>\"\u001b[0;36m, line \u001b[0;32m22\u001b[0m\n\u001b[0;31m    replication(treatment(ccells,hcells,strength,specificity))\u001b[0m\n\u001b[0m              ^\u001b[0m\n\u001b[0;31mSyntaxError\u001b[0m\u001b[0;31m:\u001b[0m invalid syntax\n"
     ]
    }
   ],
   "source": [
    "def treatment(ccells1, hcells1, strength, specificity): \n",
    "    tcells = (ccells1+hcells1) #total cells in sample\n",
    "    dcells = strength*tcells #total number of cells killed by treatment\n",
    "    dccells = specificity*dcells #total number of cancer cells killed by treatment\n",
    "    dhcells = dcells - dccells #total number of healthy cells killed by treatment\n",
    "    ccells = ccells1-dccells #number of cancer cells remaining\n",
    "    hcells = hcells1-dhcells #number of healthy cells remaining\n",
    "    printResults(ccells,hcells)\n",
    "    return (ccells, hcells)\n",
    "\n",
    "\n",
    "def replication(ccells, hcells): \n",
    "    ccells = ccells1 * 3 #cancer cells replicate 1.5x as fast\n",
    "    hcells = hcells1 * 2 # healthy cells replicate normally\n",
    "    printResults(ccells,hcells)\n",
    "\n",
    "def treatmentRound(ccells,hcells,strength,specificity,rounds): \n",
    "    trial = 1\n",
    "    for i in range(0,rounds):\n",
    "        print(\"Trial #: \"+ str(trial))\n",
    "        print(str(ccells)+ \" \"+ str(hcells)\n",
    "        replication(treatment(ccells,hcells,strength,specificity))\n",
    "        trial += 1\n",
    "        \n",
    "        \n",
    "\n",
    "treatmentRound(ccells,hcells,strength,specificity,3)\n"
   ]
  },
  {
   "cell_type": "code",
   "execution_count": null,
   "metadata": {},
   "outputs": [],
   "source": []
  },
  {
   "cell_type": "code",
   "execution_count": null,
   "metadata": {},
   "outputs": [],
   "source": []
  },
  {
   "cell_type": "code",
   "execution_count": null,
   "metadata": {},
   "outputs": [],
   "source": []
  },
  {
   "cell_type": "code",
   "execution_count": null,
   "metadata": {},
   "outputs": [],
   "source": []
  }
 ],
 "metadata": {
  "kernelspec": {
   "display_name": "Python 3",
   "language": "python",
   "name": "python3"
  },
  "language_info": {
   "codemirror_mode": {
    "name": "ipython",
    "version": 3
   },
   "file_extension": ".py",
   "mimetype": "text/x-python",
   "name": "python",
   "nbconvert_exporter": "python",
   "pygments_lexer": "ipython3",
   "version": "3.7.3"
  }
 },
 "nbformat": 4,
 "nbformat_minor": 4
}
