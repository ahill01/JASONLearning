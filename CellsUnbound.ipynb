{
 "cells": [
  {
   "cell_type": "markdown",
   "metadata": {},
   "source": [
    "## Cells Unbound ##\n",
    "### STEM vs Disease ###\n",
    "\n",
    "Cancer cells are different from normal cells in many subtle ways. In order to develop drugs to control cancer, researchers must develop tools that recognize these differences. Whether the tools are designed to kill cells or prevent their spread, they must have the ability to distinguish cancer from normal tissue. Refining this ability is essential to finding more effective and less damaging therapies.\n",
    "\n",
    "In this activity, you will become a cancer treatment expert. Oftentimes, doctors have to determine a balance of treatment strength and treatment specificity. Your job is to determine which balance of treatment strength and specificity results in the best outcome for your patient. \n",
    "\n",
    "Your tissue begins with a 1000 cell tissue sample that is 90% healthy healthy cells. "
   ]
  },
  {
   "cell_type": "code",
   "execution_count": 87,
   "metadata": {},
   "outputs": [],
   "source": [
    "ccells = 1000 #number of cancerous cells\n",
    "hcells = 9000 #number of healthy cells\n",
    "trounds = 3 #rounds of treatment\n",
    "\n",
    "def printResults(ccells, hcells):  \n",
    "        print(\"Your tissue contains \") \n",
    "        print(str(ccells) + \" cancer cells\")\n",
    "        print(str(hcells) + \" healthy cells\")\n",
    "        print(\"Your tissue is \" +str(100*(hcells/(hcells+ccells))) + \"% healthy cells\")\n",
    "        print(\"__________________\")\n",
    "        \n",
    "    \n",
    "def treatment(ccells,hcells,strength,specificity):\n",
    "    tcells = (ccells+hcells) #total cells in sample\n",
    "    dcells = strength*tcells #total number of cells killed by treatment\n",
    "    dccells = specificity*dcells #total number of cancer cells killed by treatment\n",
    "    dhcells = dcells - dccells #total number of healthy cells killed by treatment\n",
    "    ccells = round(ccells-dccells) #number of cancer cells remaining\n",
    "    hcells = round(hcells-dhcells) #number of healthy cells remaining\n",
    "    return ccells, hcells\n",
    "\n",
    "def replication(ccells,hcells): \n",
    "    if (ccells >=0): \n",
    "        ccells = ccells * 3 #cancer cells replicate 1.5x as fast\n",
    "        hcells = hcells * 2 # healthy cells replicate normally\n",
    "    else: \n",
    "        ccells = 0\n",
    "        hcells = hcells\n",
    "    return ccells,hcells\n",
    "\n",
    "def treatmentRound(ccells,hcells,strength,specificity,rounds): \n",
    "    for i in range(0,rounds):\n",
    "        print(\"Treatment Round #: \"+ str(i+1))\n",
    "        tOutcome = treatment(ccells,hcells,strength,specificity) #stores treatment outcome tupple of (ccells,hcells)\n",
    "        rOutcome = replication(tOutcome[0],tOutcome[1]) #replication based on ccells,hcells still alive\n",
    "        if (ccells <= 0): \n",
    "            ccells = 0 \n",
    "            hcells = rOutcome[1]\n",
    "        else: \n",
    "            ccells = rOutcome[0]\n",
    "            hcells = rOutcome[1]\n",
    "        printResults(ccells,hcells)"
   ]
  },
  {
   "cell_type": "markdown",
   "metadata": {},
   "source": [
    "Two main parameters: **strength of treatment** (how deadly the treatment is to cells) and **specificity** (how likely the treatment is to kill cancer cells specifically). \n",
    "\n",
    "For **strength**, enter a value between **0** and **1**, with zero corresponding to a treatment that kills none of the cells it touches and 1 corresponding to a treatment that kills every cell it touches. \n",
    "\n",
    "For **specificity**, enter a value between **.5** and **1**, with .5 corresponding to a 50-50 chance that the cells killed are cancer cells, and 1 corresponding to a 100% probability that the cells killed are cancer cells. \n",
    "\n",
    "*Bonus: Why wouldn't we model a medication with a specificity less than 50%?*\n",
    "\n",
    "Press shift + enter to carry out your first treatment cycle"
   ]
  },
  {
   "cell_type": "code",
   "execution_count": 88,
   "metadata": {},
   "outputs": [
    {
     "name": "stdout",
     "output_type": "stream",
     "text": [
      "Treatment Round #: 1\n",
      "Your tissue contains \n",
      "1200 cancer cells\n",
      "17200 healthy cells\n",
      "Your tissue is 93.47826086956522% healthy cells\n",
      "__________________\n",
      "Treatment Round #: 2\n",
      "Your tissue contains \n",
      "288 cancer cells\n",
      "32928 healthy cells\n",
      "Your tissue is 99.13294797687861% healthy cells\n",
      "__________________\n",
      "Treatment Round #: 3\n",
      "Your tissue contains \n",
      "0 cancer cells\n",
      "31599 healthy cells\n",
      "Your tissue is 100.0% healthy cells\n",
      "__________________\n"
     ]
    }
   ],
   "source": [
    "strength = 0.1\n",
    "specificity = 0.6\n",
    "\n",
    "\n",
    "treatmentRound(ccells,hcells,strength,specificity,trounds)"
   ]
  },
  {
   "cell_type": "markdown",
   "metadata": {},
   "source": [
    "Record the results in your notebook. Next, decrease the strength of the treatment and run the same trial. \n",
    "1. What happens to the proportion of healthy and cancerous cells if you decrease the strength? increase?\n",
    "2. Which dosage strength is more effective?\n",
    "\n",
    "Record the number of healthy and cancerous cells, and the percentage of healthy tissue in your notebook. "
   ]
  },
  {
   "cell_type": "code",
   "execution_count": 90,
   "metadata": {},
   "outputs": [
    {
     "name": "stdout",
     "output_type": "stream",
     "text": [
      "Treatment Round #: 1\n",
      "Your tissue contains \n",
      "2820 cancer cells\n",
      "17920 healthy cells\n",
      "Your tissue is 86.40308582449373% healthy cells\n",
      "__________________\n",
      "Treatment Round #: 2\n",
      "Your tissue contains \n",
      "8088 cancer cells\n",
      "35674 healthy cells\n",
      "Your tissue is 81.51821214752525% healthy cells\n",
      "__________________\n",
      "Treatment Round #: 3\n",
      "Your tissue contains \n",
      "23475 cancer cells\n",
      "70998 healthy cells\n",
      "Your tissue is 75.15163062462291% healthy cells\n",
      "__________________\n"
     ]
    }
   ],
   "source": [
    "strength = 0.01\n",
    "specificity = 0.6\n",
    "\n",
    "\n",
    "treatmentRound(ccells,hcells,strength,specificity,trounds)"
   ]
  },
  {
   "cell_type": "markdown",
   "metadata": {},
   "source": [
    "Record the results in your notebook. Next, decrease the strength of the treatment and run the same trial. \n",
    "1. What happens to the proportion of healthy and cancerous cells if you decrease the specificity? increase?\n",
    "2. Which dosage specificity is most effective?\n",
    "\n",
    "Record the number of healthy and cancerous cells, and the percentage of healthy tissue in your notebook. "
   ]
  },
  {
   "cell_type": "code",
   "execution_count": 89,
   "metadata": {},
   "outputs": [
    {
     "name": "stdout",
     "output_type": "stream",
     "text": [
      "Treatment Round #: 1\n",
      "Your tissue contains \n",
      "900 cancer cells\n",
      "17400 healthy cells\n",
      "Your tissue is 95.08196721311475% healthy cells\n",
      "__________________\n",
      "Treatment Round #: 2\n",
      "Your tissue contains \n",
      "0 cancer cells\n",
      "16851 healthy cells\n",
      "Your tissue is 100.0% healthy cells\n",
      "__________________\n",
      "Treatment Round #: 3\n",
      "Your tissue contains \n",
      "0 cancer cells\n",
      "16345 healthy cells\n",
      "Your tissue is 100.0% healthy cells\n",
      "__________________\n"
     ]
    }
   ],
   "source": [
    "strength = 0.1\n",
    "specificity = 0.7\n",
    "\n",
    "\n",
    "treatmentRound(ccells,hcells,strength,specificity,trounds)"
   ]
  },
  {
   "cell_type": "markdown",
   "metadata": {},
   "source": []
  },
  {
   "cell_type": "code",
   "execution_count": null,
   "metadata": {},
   "outputs": [],
   "source": []
  }
 ],
 "metadata": {
  "kernelspec": {
   "display_name": "Python 3",
   "language": "python",
   "name": "python3"
  },
  "language_info": {
   "codemirror_mode": {
    "name": "ipython",
    "version": 3
   },
   "file_extension": ".py",
   "mimetype": "text/x-python",
   "name": "python",
   "nbconvert_exporter": "python",
   "pygments_lexer": "ipython3",
   "version": "3.7.3"
  }
 },
 "nbformat": 4,
 "nbformat_minor": 4
}
